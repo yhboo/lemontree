{
 "cells": [
  {
   "cell_type": "code",
   "execution_count": 24,
   "metadata": {
    "collapsed": true
   },
   "outputs": [],
   "source": [
    "import theano\n",
    "import theano.tensor as T\n",
    "import numpy as np\n",
    "from collections import OrderedDict"
   ]
  },
  {
   "cell_type": "code",
   "execution_count": 82,
   "metadata": {
    "collapsed": true
   },
   "outputs": [],
   "source": [
    "def quantize(input, step_size, n_bits):\n",
    "    n_steps = 2**(n_bits-1)-1\n",
    "    temp = T.round(input / step_size)\n",
    "    temp = T.minimum(temp, n_steps)\n",
    "    temp = T.maximum(temp, -n_steps)\n",
    "    return temp*step_size\n",
    "\n",
    "def get_step_size(s):\n",
    "    return T.cast(s,'float32')\n",
    "\n",
    "\n",
    "\n"
   ]
  },
  {
   "cell_type": "code",
   "execution_count": 79,
   "metadata": {
    "collapsed": false
   },
   "outputs": [],
   "source": [
    "a = get_step_size(0.1)\n",
    "a = get_step_size(0.2)\n",
    "s = np.asarray(0.1, dtype = 'float32')"
   ]
  },
  {
   "cell_type": "code",
   "execution_count": 102,
   "metadata": {
    "collapsed": false
   },
   "outputs": [],
   "source": [
    "x = np.asarray(np.random.rand(5,5)-0.5,dtype = 'float32')\n",
    "s = np.asarray(0.1, dtype = 'float32')\n",
    "n_bits = 3\n",
    "\n",
    "class test():\n",
    "    def __init__(self, nbits):\n",
    "        self.x_shared = theano.shared(x)\n",
    "        self.s_shared = theano.shared(s)\n",
    "        self.fixed_shared = theano.shared(x)\n",
    "        self.n = nbits\n",
    "        self.param_fixed = [fixed_shared]\n",
    "        self.param_quantized = [quantize(param_fixed, s_shared, n_bits)]\n",
    "\n",
    "        self.y = T.sum(self.x_shared)\n",
    "        self.fixed_updates = OrderedDict()\n",
    "        self.updates = OrderedDict()\n",
    "        \n",
    "    \n",
    "    def get_updates(self):\n",
    "        n_step = T.pow(2,self.n-1)-1\n",
    "        #self.fixed_updates[self.fixed_shared] = T.maximum(T.minimum(T.round(self.x_shared / self.s_shared), n_step),-n_step)\n",
    "        self.fixed_updates[self.x_shared] = self.x_shared - [T.grad(self.y, self.x_shared)]\n",
    "        return fixed_updates\n",
    "        #self.fixed_updates[x_shared] = T.grad(self.y, self.x_shared)\n",
    "\n"
   ]
  },
  {
   "cell_type": "code",
   "execution_count": 103,
   "metadata": {
    "collapsed": false
   },
   "outputs": [
    {
     "name": "stdout",
     "output_type": "stream",
     "text": [
      "OrderedDict([(<TensorType(float32, matrix)>, Elemwise{mul,no_inplace}.0)])\n"
     ]
    }
   ],
   "source": [
    "a = test(3)\n",
    "upd = a.get_updates()\n",
    "#test_fun = theano.function(inputs = [],\n",
    "#                          outputs = [],\n",
    "#                          updates = upd)\n",
    "print(upd)"
   ]
  },
  {
   "cell_type": "code",
   "execution_count": 104,
   "metadata": {
    "collapsed": false
   },
   "outputs": [
    {
     "ename": "TypeError",
     "evalue": "('An update must have the same type as the original shared variable (shared_var=<TensorType(float32, matrix)>, shared_var.type=TensorType(float32, matrix), update_val=Elemwise{mul,no_inplace}.0, update_val.type=TensorType(float32, (True, False, False))).', 'If the difference is related to the broadcast pattern, you can call the tensor.unbroadcast(var, axis_to_unbroadcast[, ...]) function to remove broadcastable dimensions.')",
     "output_type": "error",
     "traceback": [
      "\u001b[0;31m---------------------------------------------------------------------------\u001b[0m",
      "\u001b[0;31mTypeError\u001b[0m                                 Traceback (most recent call last)",
      "\u001b[0;32mC:\\Users\\dnsgh\\Anaconda3\\envs\\py3.4\\lib\\site-packages\\theano\\compile\\pfunc.py\u001b[0m in \u001b[0;36mrebuild_collect_shared\u001b[0;34m(outputs, inputs, replace, updates, rebuild_strict, copy_inputs_over, no_default_updates)\u001b[0m\n\u001b[1;32m    191\u001b[0m             update_val = store_into.type.filter_variable(update_val,\n\u001b[0;32m--> 192\u001b[0;31m                                                          allow_convert=False)\n\u001b[0m\u001b[1;32m    193\u001b[0m         \u001b[1;32mexcept\u001b[0m \u001b[0mTypeError\u001b[0m\u001b[1;33m:\u001b[0m\u001b[1;33m\u001b[0m\u001b[0m\n",
      "\u001b[0;32mC:\\Users\\dnsgh\\Anaconda3\\envs\\py3.4\\lib\\site-packages\\theano\\tensor\\type.py\u001b[0m in \u001b[0;36mfilter_variable\u001b[0;34m(self, other, allow_convert)\u001b[0m\n\u001b[1;32m    232\u001b[0m                  \u001b[0mother\u001b[0m\u001b[1;33m=\u001b[0m\u001b[0mother\u001b[0m\u001b[1;33m,\u001b[0m\u001b[1;33m\u001b[0m\u001b[0m\n\u001b[0;32m--> 233\u001b[0;31m                  self=self))\n\u001b[0m\u001b[1;32m    234\u001b[0m \u001b[1;33m\u001b[0m\u001b[0m\n",
      "\u001b[0;31mTypeError\u001b[0m: Cannot convert Type TensorType(float32, (True, False, False)) (of Variable Elemwise{mul,no_inplace}.0) into Type TensorType(float32, matrix). You can try to manually convert Elemwise{mul,no_inplace}.0 into a TensorType(float32, matrix).",
      "\nDuring handling of the above exception, another exception occurred:\n",
      "\u001b[0;31mTypeError\u001b[0m                                 Traceback (most recent call last)",
      "\u001b[0;32m<ipython-input-104-ed6dba1d2a07>\u001b[0m in \u001b[0;36m<module>\u001b[0;34m()\u001b[0m\n\u001b[0;32m----> 1\u001b[0;31m \u001b[0mfun1\u001b[0m \u001b[1;33m=\u001b[0m \u001b[0mtheano\u001b[0m\u001b[1;33m.\u001b[0m\u001b[0mfunction\u001b[0m\u001b[1;33m(\u001b[0m\u001b[0minputs\u001b[0m \u001b[1;33m=\u001b[0m \u001b[1;33m[\u001b[0m\u001b[1;33m]\u001b[0m\u001b[1;33m,\u001b[0m \u001b[0mupdates\u001b[0m \u001b[1;33m=\u001b[0m \u001b[0mfixed_updates\u001b[0m\u001b[1;33m,\u001b[0m \u001b[0moutputs\u001b[0m \u001b[1;33m=\u001b[0m \u001b[1;33m[\u001b[0m\u001b[1;33m]\u001b[0m\u001b[1;33m)\u001b[0m\u001b[1;33m\u001b[0m\u001b[0m\n\u001b[0m",
      "\u001b[0;32mC:\\Users\\dnsgh\\Anaconda3\\envs\\py3.4\\lib\\site-packages\\theano\\compile\\function.py\u001b[0m in \u001b[0;36mfunction\u001b[0;34m(inputs, outputs, mode, updates, givens, no_default_updates, accept_inplace, name, rebuild_strict, allow_input_downcast, profile, on_unused_input)\u001b[0m\n\u001b[1;32m    318\u001b[0m                    \u001b[0mon_unused_input\u001b[0m\u001b[1;33m=\u001b[0m\u001b[0mon_unused_input\u001b[0m\u001b[1;33m,\u001b[0m\u001b[1;33m\u001b[0m\u001b[0m\n\u001b[1;32m    319\u001b[0m                    \u001b[0mprofile\u001b[0m\u001b[1;33m=\u001b[0m\u001b[0mprofile\u001b[0m\u001b[1;33m,\u001b[0m\u001b[1;33m\u001b[0m\u001b[0m\n\u001b[0;32m--> 320\u001b[0;31m                    output_keys=output_keys)\n\u001b[0m\u001b[1;32m    321\u001b[0m     \u001b[1;31m# We need to add the flag check_aliased inputs if we have any mutable or\u001b[0m\u001b[1;33m\u001b[0m\u001b[1;33m\u001b[0m\u001b[0m\n\u001b[1;32m    322\u001b[0m     \u001b[1;31m# borrowed used defined inputs\u001b[0m\u001b[1;33m\u001b[0m\u001b[1;33m\u001b[0m\u001b[0m\n",
      "\u001b[0;32mC:\\Users\\dnsgh\\Anaconda3\\envs\\py3.4\\lib\\site-packages\\theano\\compile\\pfunc.py\u001b[0m in \u001b[0;36mpfunc\u001b[0;34m(params, outputs, mode, updates, givens, no_default_updates, accept_inplace, name, rebuild_strict, allow_input_downcast, profile, on_unused_input, output_keys)\u001b[0m\n\u001b[1;32m    440\u001b[0m                                          \u001b[0mrebuild_strict\u001b[0m\u001b[1;33m=\u001b[0m\u001b[0mrebuild_strict\u001b[0m\u001b[1;33m,\u001b[0m\u001b[1;33m\u001b[0m\u001b[0m\n\u001b[1;32m    441\u001b[0m                                          \u001b[0mcopy_inputs_over\u001b[0m\u001b[1;33m=\u001b[0m\u001b[1;32mTrue\u001b[0m\u001b[1;33m,\u001b[0m\u001b[1;33m\u001b[0m\u001b[0m\n\u001b[0;32m--> 442\u001b[0;31m                                          no_default_updates=no_default_updates)\n\u001b[0m\u001b[1;32m    443\u001b[0m     \u001b[1;31m# extracting the arguments\u001b[0m\u001b[1;33m\u001b[0m\u001b[1;33m\u001b[0m\u001b[0m\n\u001b[1;32m    444\u001b[0m     \u001b[0minput_variables\u001b[0m\u001b[1;33m,\u001b[0m \u001b[0mcloned_extended_outputs\u001b[0m\u001b[1;33m,\u001b[0m \u001b[0mother_stuff\u001b[0m \u001b[1;33m=\u001b[0m \u001b[0moutput_vars\u001b[0m\u001b[1;33m\u001b[0m\u001b[0m\n",
      "\u001b[0;32mC:\\Users\\dnsgh\\Anaconda3\\envs\\py3.4\\lib\\site-packages\\theano\\compile\\pfunc.py\u001b[0m in \u001b[0;36mrebuild_collect_shared\u001b[0;34m(outputs, inputs, replace, updates, rebuild_strict, copy_inputs_over, no_default_updates)\u001b[0m\n\u001b[1;32m    205\u001b[0m                        ' function to remove broadcastable dimensions.')\n\u001b[1;32m    206\u001b[0m \u001b[1;33m\u001b[0m\u001b[0m\n\u001b[0;32m--> 207\u001b[0;31m             \u001b[1;32mraise\u001b[0m \u001b[0mTypeError\u001b[0m\u001b[1;33m(\u001b[0m\u001b[0merr_msg\u001b[0m\u001b[1;33m,\u001b[0m \u001b[0merr_sug\u001b[0m\u001b[1;33m)\u001b[0m\u001b[1;33m\u001b[0m\u001b[0m\n\u001b[0m\u001b[1;32m    208\u001b[0m         \u001b[1;32massert\u001b[0m \u001b[0mupdate_val\u001b[0m\u001b[1;33m.\u001b[0m\u001b[0mtype\u001b[0m \u001b[1;33m==\u001b[0m \u001b[0mstore_into\u001b[0m\u001b[1;33m.\u001b[0m\u001b[0mtype\u001b[0m\u001b[1;33m\u001b[0m\u001b[0m\n\u001b[1;32m    209\u001b[0m \u001b[1;33m\u001b[0m\u001b[0m\n",
      "\u001b[0;31mTypeError\u001b[0m: ('An update must have the same type as the original shared variable (shared_var=<TensorType(float32, matrix)>, shared_var.type=TensorType(float32, matrix), update_val=Elemwise{mul,no_inplace}.0, update_val.type=TensorType(float32, (True, False, False))).', 'If the difference is related to the broadcast pattern, you can call the tensor.unbroadcast(var, axis_to_unbroadcast[, ...]) function to remove broadcastable dimensions.')"
     ]
    }
   ],
   "source": [
    "fun1 = theano.function(inputs = [], updates = fixed_updates, outputs = [])"
   ]
  },
  {
   "cell_type": "code",
   "execution_count": 45,
   "metadata": {
    "collapsed": true
   },
   "outputs": [],
   "source": [
    "fun2 = theano.function(inputs = [], outputs = quantize(x_shared, s_shared, 3))"
   ]
  },
  {
   "cell_type": "code",
   "execution_count": 48,
   "metadata": {
    "collapsed": false
   },
   "outputs": [
    {
     "name": "stdout",
     "output_type": "stream",
     "text": [
      "[[-0.27958101  0.28974539 -0.31195787  0.08672415  0.37770763]\n",
      " [-0.06198593 -0.23962581  0.07360829 -0.02703791 -0.44310743]\n",
      " [-0.45039165 -0.28791687 -0.44049704 -0.41792256  0.1068239 ]\n",
      " [-0.10970719 -0.12472475 -0.49233606  0.25047517 -0.35244679]\n",
      " [ 0.41071752  0.00092027 -0.01045024 -0.29728943  0.20029037]]\n",
      "[[-0.30000001  0.30000001 -0.30000001  0.1         0.30000001]\n",
      " [-0.1        -0.2         0.1        -0.         -0.30000001]\n",
      " [-0.30000001 -0.30000001 -0.30000001 -0.30000001  0.1       ]\n",
      " [-0.1        -0.1        -0.30000001  0.30000001 -0.30000001]\n",
      " [ 0.30000001  0.         -0.         -0.30000001  0.2       ]]\n",
      "<class 'numpy.ndarray'>\n"
     ]
    }
   ],
   "source": [
    "print(x)\n",
    "print(fun2())\n",
    "print(type(fun2()))"
   ]
  },
  {
   "cell_type": "code",
   "execution_count": 50,
   "metadata": {
    "collapsed": false
   },
   "outputs": [
    {
     "data": {
      "text/plain": [
       "Elemwise{second}.0"
      ]
     },
     "execution_count": 50,
     "metadata": {},
     "output_type": "execute_result"
    }
   ],
   "source": [
    "T.grad(y,x_shared)"
   ]
  },
  {
   "cell_type": "code",
   "execution_count": 67,
   "metadata": {
    "collapsed": true
   },
   "outputs": [],
   "source": [
    "fun3 = theano.function(inputs = [], outputs = T.grad(y,x_shared))"
   ]
  },
  {
   "cell_type": "code",
   "execution_count": 68,
   "metadata": {
    "collapsed": false
   },
   "outputs": [
    {
     "data": {
      "text/plain": [
       "array([[ 1.,  1.,  1.,  1.,  1.],\n",
       "       [ 1.,  1.,  1.,  1.,  1.],\n",
       "       [ 1.,  1.,  1.,  1.,  1.],\n",
       "       [ 1.,  1.,  1.,  1.,  1.],\n",
       "       [ 1.,  1.,  1.,  1.,  1.]], dtype=float32)"
      ]
     },
     "execution_count": 68,
     "metadata": {},
     "output_type": "execute_result"
    }
   ],
   "source": [
    "fun3()"
   ]
  },
  {
   "cell_type": "code",
   "execution_count": 65,
   "metadata": {
    "collapsed": false
   },
   "outputs": [
    {
     "name": "stdout",
     "output_type": "stream",
     "text": [
      "1\n",
      "OrderedDict([(<TensorType(float32, matrix)>, Elemwise{sub,no_inplace}.0)])\n"
     ]
    }
   ],
   "source": [
    "updates = []\n",
    "gparams = [T.grad(y,x_shared)]\n",
    "count = 0\n",
    "for n, (param, grad) in enumerate(zip(param_fixed, gparams)):\n",
    "    count+=1\n",
    "    updates.append((param, param - grad))\n",
    "print(count)\n",
    "updates = OrderedDict(updates)\n",
    "\n",
    "print(updates)"
   ]
  },
  {
   "cell_type": "code",
   "execution_count": 63,
   "metadata": {
    "collapsed": false
   },
   "outputs": [],
   "source": [
    "fun4 = theano.function(inputs = [], outputs = [], updates = updates)"
   ]
  },
  {
   "cell_type": "code",
   "execution_count": 66,
   "metadata": {
    "collapsed": false
   },
   "outputs": [
    {
     "name": "stdout",
     "output_type": "stream",
     "text": [
      "[[-0.40804988  0.46965244 -0.48871022 -0.22406742  0.46042252]\n",
      " [ 0.40825397  0.36835557 -0.25598183  0.32126179  0.2431259 ]\n",
      " [-0.06048227  0.3032468  -0.32513893 -0.08931643  0.32282916]\n",
      " [ 0.14846344  0.18819812  0.34832835 -0.19162592 -0.04929791]\n",
      " [ 0.04577921  0.35213175  0.13132583 -0.16226082 -0.2660819 ]] \n",
      "\n",
      "\n",
      "[[-0.40804988  0.46965244 -0.48871022 -0.22406742  0.46042252]\n",
      " [ 0.40825397  0.36835557 -0.25598183  0.32126179  0.2431259 ]\n",
      " [-0.06048227  0.3032468  -0.32513893 -0.08931643  0.32282916]\n",
      " [ 0.14846344  0.18819812  0.34832835 -0.19162592 -0.04929791]\n",
      " [ 0.04577921  0.35213175  0.13132583 -0.16226082 -0.2660819 ]]\n"
     ]
    }
   ],
   "source": [
    "print(x_shared.get_value(),'\\n\\n')\n",
    "fun4()\n",
    "print(x_shared.get_value())"
   ]
  },
  {
   "cell_type": "code",
   "execution_count": null,
   "metadata": {
    "collapsed": true
   },
   "outputs": [],
   "source": []
  }
 ],
 "metadata": {
  "anaconda-cloud": {},
  "kernelspec": {
   "display_name": "Python [conda env:py3.4]",
   "language": "python",
   "name": "conda-env-py3.4-py"
  },
  "language_info": {
   "codemirror_mode": {
    "name": "ipython",
    "version": 3
   },
   "file_extension": ".py",
   "mimetype": "text/x-python",
   "name": "python",
   "nbconvert_exporter": "python",
   "pygments_lexer": "ipython3",
   "version": "3.4.5"
  }
 },
 "nbformat": 4,
 "nbformat_minor": 1
}
