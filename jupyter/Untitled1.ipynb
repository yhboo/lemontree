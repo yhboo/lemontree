{
 "cells": [
  {
   "cell_type": "code",
   "execution_count": 1,
   "metadata": {
    "collapsed": true
   },
   "outputs": [],
   "source": [
    "import numpy as np\n",
    "import theano\n",
    "import theano.tensor as T"
   ]
  },
  {
   "cell_type": "code",
   "execution_count": 58,
   "metadata": {
    "collapsed": false
   },
   "outputs": [],
   "source": [
    "x = np.asarray(np.random.rand(5,5), dtype = 'float32')\n",
    "s = np.asarray(0.1, dtype = 'float32')\n",
    "n = 3"
   ]
  },
  {
   "cell_type": "code",
   "execution_count": 59,
   "metadata": {
    "collapsed": false
   },
   "outputs": [
    {
     "name": "stdout",
     "output_type": "stream",
     "text": [
      "[(<TensorType(float32, matrix)>, Elemwise{Cast{float32}}.0)]\n"
     ]
    }
   ],
   "source": [
    "state = theano.shared(x)\n",
    "step = theano.shared(s)\n",
    "n_bits = theano.shared(n)\n",
    "fixed_updates = []\n",
    "precision = T.pow(2,n_bits-1)-1\n",
    "fixed = T.cast(T.maximum(T.minimum(T.round(state / step), precision), -precision) * step, dtype = 'float32')\n",
    "\n",
    "fixed_updates.append((state, fixed))\n",
    "print(fixed_updates)"
   ]
  },
  {
   "cell_type": "code",
   "execution_count": 60,
   "metadata": {
    "collapsed": false
   },
   "outputs": [],
   "source": [
    "func1 = theano.function(inputs = [], outputs = [], updates = fixed_updates)"
   ]
  },
  {
   "cell_type": "code",
   "execution_count": 61,
   "metadata": {
    "collapsed": false
   },
   "outputs": [
    {
     "name": "stdout",
     "output_type": "stream",
     "text": [
      "[[ 0.21376927  0.58785957  0.61557835  0.53088105  0.0928635 ]\n",
      " [ 0.4422904   0.76952213  0.23917456  0.06451438  0.86683255]\n",
      " [ 0.10539833  0.9703179   0.92030901  0.06155436  0.55277675]\n",
      " [ 0.47443894  0.99992239  0.45073289  0.2415255   0.22808978]\n",
      " [ 0.26661342  0.14108357  0.4408094   0.55407232  0.16239165]]\n",
      "[[ 0.21376927  0.58785957  0.61557835  0.53088105  0.0928635 ]\n",
      " [ 0.4422904   0.76952213  0.23917456  0.06451438  0.86683255]\n",
      " [ 0.10539833  0.9703179   0.92030901  0.06155436  0.55277675]\n",
      " [ 0.47443894  0.99992239  0.45073289  0.2415255   0.22808978]\n",
      " [ 0.26661342  0.14108357  0.4408094   0.55407232  0.16239165]]\n"
     ]
    }
   ],
   "source": [
    "print(state.get_value())\n",
    "#func1()\n",
    "print(state.get_value())"
   ]
  },
  {
   "cell_type": "code",
   "execution_count": 62,
   "metadata": {
    "collapsed": true
   },
   "outputs": [],
   "source": [
    "def quantize(input, step_size, n_bits):\n",
    "    p = T.pow(2,n_bits-1)-1\n",
    "    return T.cast(T.maximum(T.minimum(T.round(input / step), p), -p) * step_size, dtype = 'float32')"
   ]
  },
  {
   "cell_type": "code",
   "execution_count": 63,
   "metadata": {
    "collapsed": true
   },
   "outputs": [],
   "source": [
    "new_updates = []\n",
    "new_updates.append((state, quantize(state, step, n_bits)))"
   ]
  },
  {
   "cell_type": "code",
   "execution_count": 64,
   "metadata": {
    "collapsed": false
   },
   "outputs": [],
   "source": [
    "func2 = theano.function(inputs = [], outputs = [], updates = new_updates)"
   ]
  },
  {
   "cell_type": "code",
   "execution_count": 65,
   "metadata": {
    "collapsed": false
   },
   "outputs": [
    {
     "name": "stdout",
     "output_type": "stream",
     "text": [
      "[[ 0.21376927  0.58785957  0.61557835  0.53088105  0.0928635 ]\n",
      " [ 0.4422904   0.76952213  0.23917456  0.06451438  0.86683255]\n",
      " [ 0.10539833  0.9703179   0.92030901  0.06155436  0.55277675]\n",
      " [ 0.47443894  0.99992239  0.45073289  0.2415255   0.22808978]\n",
      " [ 0.26661342  0.14108357  0.4408094   0.55407232  0.16239165]]\n",
      "[[ 0.2         0.30000001  0.30000001  0.30000001  0.1       ]\n",
      " [ 0.30000001  0.30000001  0.2         0.1         0.30000001]\n",
      " [ 0.1         0.30000001  0.30000001  0.1         0.30000001]\n",
      " [ 0.30000001  0.30000001  0.30000001  0.2         0.2       ]\n",
      " [ 0.30000001  0.1         0.30000001  0.30000001  0.2       ]]\n"
     ]
    }
   ],
   "source": [
    "print(state.get_value())\n",
    "func2()\n",
    "print(state.get_value())"
   ]
  },
  {
   "cell_type": "code",
   "execution_count": 37,
   "metadata": {
    "collapsed": false
   },
   "outputs": [
    {
     "name": "stdout",
     "output_type": "stream",
     "text": [
      "1\n"
     ]
    }
   ],
   "source": [
    "pp = 'a;ldkgja;lgkalkgj'\n",
    "if pp:\n",
    "    print(1)\n",
    "else:\n",
    "    print(0)"
   ]
  },
  {
   "cell_type": "code",
   "execution_count": 66,
   "metadata": {
    "collapsed": true
   },
   "outputs": [],
   "source": [
    "a = np.asarray([[1,2,3,4],[2,3,4,5],[1,-1,1,-1]], dtype = 'float32')"
   ]
  },
  {
   "cell_type": "code",
   "execution_count": 72,
   "metadata": {
    "collapsed": false
   },
   "outputs": [
    {
     "name": "stdout",
     "output_type": "stream",
     "text": [
      "[[ 1.  2.  3.  4.]\n",
      " [ 2.  3.  4.  5.]\n",
      " [ 1. -1.  1. -1.]]\n",
      "[ 4.  4.  8.  8.]\n"
     ]
    }
   ],
   "source": [
    "print(a)\n",
    "print(np.sum(a,axis = (0)))"
   ]
  },
  {
   "cell_type": "code",
   "execution_count": 71,
   "metadata": {
    "collapsed": false
   },
   "outputs": [
    {
     "name": "stdout",
     "output_type": "stream",
     "text": [
      "[ 1.  1.  1.  1.]\n"
     ]
    }
   ],
   "source": [
    "b = np.asarray([1,2,3,4], dtype = 'float32')\n",
    "c = np.asarray([1,2,3,4], dtype = 'float32')\n",
    "print(b / c)"
   ]
  },
  {
   "cell_type": "code",
   "execution_count": 75,
   "metadata": {
    "collapsed": false
   },
   "outputs": [],
   "source": [
    "def foo(a):\n",
    "    a.set_x(10)\n",
    "    return 0\n"
   ]
  },
  {
   "cell_type": "code",
   "execution_count": 76,
   "metadata": {
    "collapsed": false
   },
   "outputs": [
    {
     "name": "stdout",
     "output_type": "stream",
     "text": [
      "5\n",
      "10\n"
     ]
    }
   ],
   "source": [
    "class testc(object):\n",
    "    def __init__(self):\n",
    "        self.x = 5\n",
    "    \n",
    "    def set_x(self, a):\n",
    "        self.x = a\n",
    "        \n",
    "\n",
    "kkk = testc()\n",
    "print(kkk.x)\n",
    "\n",
    "foo(kkk)\n",
    "print(kkk.x)\n",
    "\n",
    "\n",
    "\n",
    "\n",
    "\n"
   ]
  },
  {
   "cell_type": "code",
   "execution_count": null,
   "metadata": {
    "collapsed": true
   },
   "outputs": [],
   "source": []
  }
 ],
 "metadata": {
  "kernelspec": {
   "display_name": "Python [conda env:py3.4]",
   "language": "python",
   "name": "conda-env-py3.4-py"
  },
  "language_info": {
   "codemirror_mode": {
    "name": "ipython",
    "version": 3
   },
   "file_extension": ".py",
   "mimetype": "text/x-python",
   "name": "python",
   "nbconvert_exporter": "python",
   "pygments_lexer": "ipython3",
   "version": "3.4.5"
  }
 },
 "nbformat": 4,
 "nbformat_minor": 1
}
